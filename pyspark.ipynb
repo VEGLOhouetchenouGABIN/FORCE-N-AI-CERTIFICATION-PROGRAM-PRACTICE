{
 "cells": [
  {
   "cell_type": "code",
   "execution_count": 1,
   "metadata": {},
   "outputs": [
    {
     "name": "stdout",
     "output_type": "stream",
     "text": [
      "Jupyter Notebook Spark by Akaronte - adriandepalma@hotmail.es\n"
     ]
    }
   ],
   "source": [
    "print(\"Jupyter Notebook Spark by Akaronte - adriandepalma@hotmail.es\")"
   ]
  },
  {
   "cell_type": "code",
   "execution_count": 1,
   "metadata": {},
   "outputs": [
    {
     "name": "stdout",
     "output_type": "stream",
     "text": [
      "Pi is roughly 3.144568\n",
      "3.144568\n"
     ]
    }
   ],
   "source": [
    "import findspark\n",
    "findspark.init(\"/opt/spark\")\n",
    "import random\n",
    "from pyspark import SparkContext\n",
    "sc = SparkContext(appName=\"EstimatePi\")\n",
    "def inside(p):\n",
    "    x, y = random.random(), random.random()\n",
    "    return x*x + y*y < 1\n",
    "NUM_SAMPLES = 1000000\n",
    "count = sc.parallelize(range(0, NUM_SAMPLES)) \\\n",
    "             .filter(inside).count()\n",
    "print(\"Pi is roughly %f\" % (4.0 * count / NUM_SAMPLES))\n",
    "sc.stop()\n",
    "\n",
    "pi = 4 * count / NUM_SAMPLES\n",
    "print(pi)\n",
    "\n",
    "sc.stop()"
   ]
  },
  {
   "cell_type": "code",
   "execution_count": null,
   "metadata": {},
   "outputs": [],
   "source": []
  }
 ],
 "metadata": {
  "kernelspec": {
   "display_name": "Python 3",
   "language": "python",
   "name": "python3"
  },
  "language_info": {
   "codemirror_mode": {
    "name": "ipython",
    "version": 3
   },
   "file_extension": ".py",
   "mimetype": "text/x-python",
   "name": "python",
   "nbconvert_exporter": "python",
   "pygments_lexer": "ipython3",
   "version": "3.7.3"
  }
 },
 "nbformat": 4,
 "nbformat_minor": 2
}
